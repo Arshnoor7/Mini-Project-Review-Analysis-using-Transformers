{
 "cells": [
  {
   "cell_type": "code",
   "execution_count": 1,
   "id": "3d3d5529",
   "metadata": {
    "execution": {
     "iopub.execute_input": "2023-07-07T12:43:23.922879Z",
     "iopub.status.busy": "2023-07-07T12:43:23.922522Z",
     "iopub.status.idle": "2023-07-07T12:43:30.222349Z",
     "shell.execute_reply": "2023-07-07T12:43:30.221263Z"
    },
    "papermill": {
     "duration": 6.319531,
     "end_time": "2023-07-07T12:43:30.225001",
     "exception": false,
     "start_time": "2023-07-07T12:43:23.905470",
     "status": "completed"
    },
    "tags": []
   },
   "outputs": [
    {
     "name": "stdout",
     "output_type": "stream",
     "text": [
      "\u001b[33mWARNING: Running pip as the 'root' user can result in broken permissions and conflicting behaviour with the system package manager. It is recommended to use a virtual environment instead: https://pip.pypa.io/warnings/venv\u001b[0m\u001b[33m\r\n",
      "\u001b[0m\r\n",
      "\u001b[1m[\u001b[0m\u001b[34;49mnotice\u001b[0m\u001b[1;39;49m]\u001b[0m\u001b[39;49m A new release of pip is available: \u001b[0m\u001b[31;49m23.0.1\u001b[0m\u001b[39;49m -> \u001b[0m\u001b[32;49m23.1.2\u001b[0m\r\n",
      "\u001b[1m[\u001b[0m\u001b[34;49mnotice\u001b[0m\u001b[1;39;49m]\u001b[0m\u001b[39;49m To update, run: \u001b[0m\u001b[32;49mpip install --upgrade pip\u001b[0m\r\n"
     ]
    }
   ],
   "source": [
    "!pip install -q tokenizers"
   ]
  },
  {
   "cell_type": "markdown",
   "id": "9bcebcda",
   "metadata": {
    "papermill": {
     "duration": 0.014682,
     "end_time": "2023-07-07T12:43:30.254277",
     "exception": false,
     "start_time": "2023-07-07T12:43:30.239595",
     "status": "completed"
    },
    "tags": []
   },
   "source": [
    "## Importing Libraries"
   ]
  },
  {
   "cell_type": "code",
   "execution_count": 2,
   "id": "0b82ebe0",
   "metadata": {
    "execution": {
     "iopub.execute_input": "2023-07-07T12:43:30.285280Z",
     "iopub.status.busy": "2023-07-07T12:43:30.284928Z",
     "iopub.status.idle": "2023-07-07T12:44:13.381705Z",
     "shell.execute_reply": "2023-07-07T12:44:13.380365Z"
    },
    "papermill": {
     "duration": 43.116132,
     "end_time": "2023-07-07T12:44:13.384558",
     "exception": false,
     "start_time": "2023-07-07T12:43:30.268426",
     "status": "completed"
    },
    "tags": []
   },
   "outputs": [
    {
     "name": "stderr",
     "output_type": "stream",
     "text": [
      "D0707 12:44:05.832498410      14 config.cc:119]                        gRPC EXPERIMENT tcp_frame_size_tuning               OFF (default:OFF)\n",
      "D0707 12:44:05.832521815      14 config.cc:119]                        gRPC EXPERIMENT tcp_rcv_lowat                       OFF (default:OFF)\n",
      "D0707 12:44:05.832525459      14 config.cc:119]                        gRPC EXPERIMENT peer_state_based_framing            OFF (default:OFF)\n",
      "D0707 12:44:05.832528287      14 config.cc:119]                        gRPC EXPERIMENT flow_control_fixes                  ON  (default:ON)\n",
      "D0707 12:44:05.832530883      14 config.cc:119]                        gRPC EXPERIMENT memory_pressure_controller          OFF (default:OFF)\n",
      "D0707 12:44:05.832533812      14 config.cc:119]                        gRPC EXPERIMENT unconstrained_max_quota_buffer_size OFF (default:OFF)\n",
      "D0707 12:44:05.832536497      14 config.cc:119]                        gRPC EXPERIMENT new_hpack_huffman_decoder           ON  (default:ON)\n",
      "D0707 12:44:05.832539205      14 config.cc:119]                        gRPC EXPERIMENT event_engine_client                 OFF (default:OFF)\n",
      "D0707 12:44:05.832541968      14 config.cc:119]                        gRPC EXPERIMENT monitoring_experiment               ON  (default:ON)\n",
      "D0707 12:44:05.832544653      14 config.cc:119]                        gRPC EXPERIMENT promise_based_client_call           OFF (default:OFF)\n",
      "D0707 12:44:05.832547368      14 config.cc:119]                        gRPC EXPERIMENT free_large_allocator                OFF (default:OFF)\n",
      "D0707 12:44:05.832550048      14 config.cc:119]                        gRPC EXPERIMENT promise_based_server_call           OFF (default:OFF)\n",
      "D0707 12:44:05.832552823      14 config.cc:119]                        gRPC EXPERIMENT transport_supplies_client_latency   OFF (default:OFF)\n",
      "D0707 12:44:05.832555539      14 config.cc:119]                        gRPC EXPERIMENT event_engine_listener               OFF (default:OFF)\n",
      "I0707 12:44:05.832793625      14 ev_epoll1_linux.cc:122]               grpc epoll fd: 59\n",
      "D0707 12:44:05.832809077      14 ev_posix.cc:144]                      Using polling engine: epoll1\n",
      "D0707 12:44:05.832826071      14 dns_resolver_ares.cc:822]             Using ares dns resolver\n",
      "D0707 12:44:05.833334129      14 lb_policy_registry.cc:46]             registering LB policy factory for \"priority_experimental\"\n",
      "D0707 12:44:05.833345548      14 lb_policy_registry.cc:46]             registering LB policy factory for \"outlier_detection_experimental\"\n",
      "D0707 12:44:05.833349513      14 lb_policy_registry.cc:46]             registering LB policy factory for \"weighted_target_experimental\"\n",
      "D0707 12:44:05.833352875      14 lb_policy_registry.cc:46]             registering LB policy factory for \"pick_first\"\n",
      "D0707 12:44:05.833356583      14 lb_policy_registry.cc:46]             registering LB policy factory for \"round_robin\"\n",
      "D0707 12:44:05.833359999      14 lb_policy_registry.cc:46]             registering LB policy factory for \"weighted_round_robin_experimental\"\n",
      "D0707 12:44:05.833366894      14 lb_policy_registry.cc:46]             registering LB policy factory for \"ring_hash_experimental\"\n",
      "D0707 12:44:05.833384693      14 lb_policy_registry.cc:46]             registering LB policy factory for \"grpclb\"\n",
      "D0707 12:44:05.833414931      14 lb_policy_registry.cc:46]             registering LB policy factory for \"rls_experimental\"\n",
      "D0707 12:44:05.833426875      14 lb_policy_registry.cc:46]             registering LB policy factory for \"xds_cluster_manager_experimental\"\n",
      "D0707 12:44:05.833430701      14 lb_policy_registry.cc:46]             registering LB policy factory for \"xds_cluster_impl_experimental\"\n",
      "D0707 12:44:05.833434391      14 lb_policy_registry.cc:46]             registering LB policy factory for \"cds_experimental\"\n",
      "D0707 12:44:05.833441323      14 lb_policy_registry.cc:46]             registering LB policy factory for \"xds_cluster_resolver_experimental\"\n",
      "D0707 12:44:05.833445214      14 lb_policy_registry.cc:46]             registering LB policy factory for \"xds_override_host_experimental\"\n",
      "D0707 12:44:05.833448614      14 lb_policy_registry.cc:46]             registering LB policy factory for \"xds_wrr_locality_experimental\"\n",
      "D0707 12:44:05.833453148      14 certificate_provider_registry.cc:35]  registering certificate provider factory for \"file_watcher\"\n",
      "I0707 12:44:05.836120025      14 socket_utils_common_posix.cc:408]     Disabling AF_INET6 sockets because ::1 is not available.\n",
      "I0707 12:44:05.877582953      14 socket_utils_common_posix.cc:337]     TCP_USER_TIMEOUT is available. TCP_USER_TIMEOUT will be used thereafter\n",
      "E0707 12:44:05.894684530      14 oauth2_credentials.cc:236]            oauth_fetch: UNKNOWN:C-ares status is not ARES_SUCCESS qtype=A name=metadata.google.internal. is_balancer=0: Domain name not found {created_time:\"2023-07-07T12:44:05.894667872+00:00\", grpc_status:2}\n"
     ]
    }
   ],
   "source": [
    "import pickle\n",
    "import pandas as pd\n",
    "import numpy as np\n",
    "import matplotlib.pyplot as plt\n",
    "from sklearn.model_selection import train_test_split\n",
    "from sklearn.model_selection import train_test_split\n",
    "import tensorflow as tf\n",
    "from tensorflow.keras.layers import Dense, Dropout, LayerNormalization, MultiHeadAttention\n",
    "from tokenizers import ByteLevelBPETokenizer, AddedToken"
   ]
  },
  {
   "cell_type": "markdown",
   "id": "610e12c7",
   "metadata": {
    "papermill": {
     "duration": 0.017363,
     "end_time": "2023-07-07T12:44:13.418795",
     "exception": false,
     "start_time": "2023-07-07T12:44:13.401432",
     "status": "completed"
    },
    "tags": []
   },
   "source": [
    "## Use a TPU / Multiple GPUs if possible"
   ]
  },
  {
   "cell_type": "code",
   "execution_count": 3,
   "id": "9d0aa5c6",
   "metadata": {
    "execution": {
     "iopub.execute_input": "2023-07-07T12:44:13.454554Z",
     "iopub.status.busy": "2023-07-07T12:44:13.453417Z",
     "iopub.status.idle": "2023-07-07T12:44:21.890391Z",
     "shell.execute_reply": "2023-07-07T12:44:21.889455Z"
    },
    "papermill": {
     "duration": 8.45984,
     "end_time": "2023-07-07T12:44:21.895229",
     "exception": false,
     "start_time": "2023-07-07T12:44:13.435389",
     "status": "completed"
    },
    "tags": []
   },
   "outputs": [
    {
     "name": "stdout",
     "output_type": "stream",
     "text": [
      "INFO:tensorflow:Deallocate tpu buffers before initializing tpu system.\n",
      "INFO:tensorflow:Initializing the TPU system: local\n",
      "INFO:tensorflow:Finished initializing TPU system.\n",
      "INFO:tensorflow:Found TPU system:\n",
      "INFO:tensorflow:*** Num TPU Cores: 8\n",
      "INFO:tensorflow:*** Num TPU Workers: 1\n",
      "INFO:tensorflow:*** Num TPU Cores Per Worker: 8\n",
      "INFO:tensorflow:*** Available Device: _DeviceAttributes(/job:localhost/replica:0/task:0/device:CPU:0, CPU, 0, 0)\n",
      "INFO:tensorflow:*** Available Device: _DeviceAttributes(/job:localhost/replica:0/task:0/device:TPU:0, TPU, 0, 0)\n",
      "INFO:tensorflow:*** Available Device: _DeviceAttributes(/job:localhost/replica:0/task:0/device:TPU:1, TPU, 0, 0)\n",
      "INFO:tensorflow:*** Available Device: _DeviceAttributes(/job:localhost/replica:0/task:0/device:TPU:2, TPU, 0, 0)\n",
      "INFO:tensorflow:*** Available Device: _DeviceAttributes(/job:localhost/replica:0/task:0/device:TPU:3, TPU, 0, 0)\n",
      "INFO:tensorflow:*** Available Device: _DeviceAttributes(/job:localhost/replica:0/task:0/device:TPU:4, TPU, 0, 0)\n",
      "INFO:tensorflow:*** Available Device: _DeviceAttributes(/job:localhost/replica:0/task:0/device:TPU:5, TPU, 0, 0)\n",
      "INFO:tensorflow:*** Available Device: _DeviceAttributes(/job:localhost/replica:0/task:0/device:TPU:6, TPU, 0, 0)\n",
      "INFO:tensorflow:*** Available Device: _DeviceAttributes(/job:localhost/replica:0/task:0/device:TPU:7, TPU, 0, 0)\n",
      "INFO:tensorflow:*** Available Device: _DeviceAttributes(/job:localhost/replica:0/task:0/device:TPU_SYSTEM:0, TPU_SYSTEM, 0, 0)\n",
      "Running on TPU: local\n"
     ]
    }
   ],
   "source": [
    "# Detect and init the TPU if available\n",
    "try:\n",
    "    tpu = tf.distribute.cluster_resolver.TPUClusterResolver.connect()\n",
    "    strategy = tf.distribute.TPUStrategy(tpu)\n",
    "    print(\"Running on TPU:\", tpu.master() or \"local\")\n",
    "except ValueError:\n",
    "    # If a TPU is not available, check for a GPU\n",
    "    gpus = tf.config.list_physical_devices(\"GPU\")\n",
    "\n",
    "    if gpus:\n",
    "        strategy = tf.distribute.MirroredStrategy()\n",
    "        \n",
    "        gpu_len = len(gpus)\n",
    "        print(f\"Running on\", gpu_len, f\"GPU{'s' if gpu_len != 1 else ''}\")\n",
    "    else:\n",
    "        strategy = tf.distribute.OneDeviceStrategy(\"CPU\")\n",
    "        print(\"Running on CPU\")"
   ]
  },
  {
   "cell_type": "markdown",
   "id": "fc54c124",
   "metadata": {
    "papermill": {
     "duration": 0.016464,
     "end_time": "2023-07-07T12:44:21.928900",
     "exception": false,
     "start_time": "2023-07-07T12:44:21.912436",
     "status": "completed"
    },
    "tags": []
   },
   "source": [
    "## Loading the data"
   ]
  },
  {
   "cell_type": "code",
   "execution_count": 4,
   "id": "d9241f50",
   "metadata": {
    "execution": {
     "iopub.execute_input": "2023-07-07T12:44:21.962936Z",
     "iopub.status.busy": "2023-07-07T12:44:21.962654Z",
     "iopub.status.idle": "2023-07-07T12:44:22.185192Z",
     "shell.execute_reply": "2023-07-07T12:44:22.184193Z"
    },
    "papermill": {
     "duration": 0.243084,
     "end_time": "2023-07-07T12:44:22.188051",
     "exception": false,
     "start_time": "2023-07-07T12:44:21.944967",
     "status": "completed"
    },
    "tags": []
   },
   "outputs": [],
   "source": [
    "df = pd.read_csv(\"/kaggle/input/mcdonalds-store-reviews/McDonald_s_Reviews.csv\", encoding=\"latin-1\")"
   ]
  },
  {
   "cell_type": "code",
   "execution_count": 5,
   "id": "ad12f9af",
   "metadata": {
    "execution": {
     "iopub.execute_input": "2023-07-07T12:44:22.224842Z",
     "iopub.status.busy": "2023-07-07T12:44:22.224501Z",
     "iopub.status.idle": "2023-07-07T12:44:22.247530Z",
     "shell.execute_reply": "2023-07-07T12:44:22.246522Z"
    },
    "papermill": {
     "duration": 0.045049,
     "end_time": "2023-07-07T12:44:22.249741",
     "exception": false,
     "start_time": "2023-07-07T12:44:22.204692",
     "status": "completed"
    },
    "tags": []
   },
   "outputs": [
    {
     "data": {
      "text/html": [
       "<div>\n",
       "<style scoped>\n",
       "    .dataframe tbody tr th:only-of-type {\n",
       "        vertical-align: middle;\n",
       "    }\n",
       "\n",
       "    .dataframe tbody tr th {\n",
       "        vertical-align: top;\n",
       "    }\n",
       "\n",
       "    .dataframe thead th {\n",
       "        text-align: right;\n",
       "    }\n",
       "</style>\n",
       "<table border=\"1\" class=\"dataframe\">\n",
       "  <thead>\n",
       "    <tr style=\"text-align: right;\">\n",
       "      <th></th>\n",
       "      <th>reviewer_id</th>\n",
       "      <th>store_name</th>\n",
       "      <th>category</th>\n",
       "      <th>store_address</th>\n",
       "      <th>latitude</th>\n",
       "      <th>longitude</th>\n",
       "      <th>rating_count</th>\n",
       "      <th>review_time</th>\n",
       "      <th>review</th>\n",
       "      <th>rating</th>\n",
       "    </tr>\n",
       "  </thead>\n",
       "  <tbody>\n",
       "    <tr>\n",
       "      <th>0</th>\n",
       "      <td>1</td>\n",
       "      <td>McDonald's</td>\n",
       "      <td>Fast food restaurant</td>\n",
       "      <td>13749 US-183 Hwy, Austin, TX 78750, United States</td>\n",
       "      <td>30.460718</td>\n",
       "      <td>-97.792874</td>\n",
       "      <td>1,240</td>\n",
       "      <td>3 months ago</td>\n",
       "      <td>Why does it look like someone spit on my food?...</td>\n",
       "      <td>1 star</td>\n",
       "    </tr>\n",
       "    <tr>\n",
       "      <th>1</th>\n",
       "      <td>2</td>\n",
       "      <td>McDonald's</td>\n",
       "      <td>Fast food restaurant</td>\n",
       "      <td>13749 US-183 Hwy, Austin, TX 78750, United States</td>\n",
       "      <td>30.460718</td>\n",
       "      <td>-97.792874</td>\n",
       "      <td>1,240</td>\n",
       "      <td>5 days ago</td>\n",
       "      <td>It'd McDonalds. It is what it is as far as the...</td>\n",
       "      <td>4 stars</td>\n",
       "    </tr>\n",
       "    <tr>\n",
       "      <th>2</th>\n",
       "      <td>3</td>\n",
       "      <td>McDonald's</td>\n",
       "      <td>Fast food restaurant</td>\n",
       "      <td>13749 US-183 Hwy, Austin, TX 78750, United States</td>\n",
       "      <td>30.460718</td>\n",
       "      <td>-97.792874</td>\n",
       "      <td>1,240</td>\n",
       "      <td>5 days ago</td>\n",
       "      <td>Made a mobile order got to the speaker and che...</td>\n",
       "      <td>1 star</td>\n",
       "    </tr>\n",
       "    <tr>\n",
       "      <th>3</th>\n",
       "      <td>4</td>\n",
       "      <td>McDonald's</td>\n",
       "      <td>Fast food restaurant</td>\n",
       "      <td>13749 US-183 Hwy, Austin, TX 78750, United States</td>\n",
       "      <td>30.460718</td>\n",
       "      <td>-97.792874</td>\n",
       "      <td>1,240</td>\n",
       "      <td>a month ago</td>\n",
       "      <td>My mc. Crispy chicken sandwich was ï¿½ï¿½ï¿½ï¿...</td>\n",
       "      <td>5 stars</td>\n",
       "    </tr>\n",
       "    <tr>\n",
       "      <th>4</th>\n",
       "      <td>5</td>\n",
       "      <td>McDonald's</td>\n",
       "      <td>Fast food restaurant</td>\n",
       "      <td>13749 US-183 Hwy, Austin, TX 78750, United States</td>\n",
       "      <td>30.460718</td>\n",
       "      <td>-97.792874</td>\n",
       "      <td>1,240</td>\n",
       "      <td>2 months ago</td>\n",
       "      <td>I repeat my order 3 times in the drive thru, a...</td>\n",
       "      <td>1 star</td>\n",
       "    </tr>\n",
       "  </tbody>\n",
       "</table>\n",
       "</div>"
      ],
      "text/plain": [
       "   reviewer_id  store_name              category  \\\n",
       "0            1  McDonald's  Fast food restaurant   \n",
       "1            2  McDonald's  Fast food restaurant   \n",
       "2            3  McDonald's  Fast food restaurant   \n",
       "3            4  McDonald's  Fast food restaurant   \n",
       "4            5  McDonald's  Fast food restaurant   \n",
       "\n",
       "                                       store_address  latitude   longitude  \\\n",
       "0  13749 US-183 Hwy, Austin, TX 78750, United States  30.460718 -97.792874   \n",
       "1  13749 US-183 Hwy, Austin, TX 78750, United States  30.460718 -97.792874   \n",
       "2  13749 US-183 Hwy, Austin, TX 78750, United States  30.460718 -97.792874   \n",
       "3  13749 US-183 Hwy, Austin, TX 78750, United States  30.460718 -97.792874   \n",
       "4  13749 US-183 Hwy, Austin, TX 78750, United States  30.460718 -97.792874   \n",
       "\n",
       "  rating_count   review_time  \\\n",
       "0        1,240  3 months ago   \n",
       "1        1,240    5 days ago   \n",
       "2        1,240    5 days ago   \n",
       "3        1,240   a month ago   \n",
       "4        1,240  2 months ago   \n",
       "\n",
       "                                              review   rating  \n",
       "0  Why does it look like someone spit on my food?...   1 star  \n",
       "1  It'd McDonalds. It is what it is as far as the...  4 stars  \n",
       "2  Made a mobile order got to the speaker and che...   1 star  \n",
       "3  My mc. Crispy chicken sandwich was ï¿½ï¿½ï¿½ï¿...  5 stars  \n",
       "4  I repeat my order 3 times in the drive thru, a...   1 star  "
      ]
     },
     "execution_count": 5,
     "metadata": {},
     "output_type": "execute_result"
    }
   ],
   "source": [
    "df.head()"
   ]
  },
  {
   "cell_type": "markdown",
   "id": "7c8b1296",
   "metadata": {
    "papermill": {
     "duration": 0.016869,
     "end_time": "2023-07-07T12:44:22.283801",
     "exception": false,
     "start_time": "2023-07-07T12:44:22.266932",
     "status": "completed"
    },
    "tags": []
   },
   "source": [
    "## Preprocessing"
   ]
  },
  {
   "cell_type": "code",
   "execution_count": 6,
   "id": "78c98209",
   "metadata": {
    "execution": {
     "iopub.execute_input": "2023-07-07T12:44:22.319918Z",
     "iopub.status.busy": "2023-07-07T12:44:22.319618Z",
     "iopub.status.idle": "2023-07-07T12:44:22.363920Z",
     "shell.execute_reply": "2023-07-07T12:44:22.363053Z"
    },
    "papermill": {
     "duration": 0.065341,
     "end_time": "2023-07-07T12:44:22.366113",
     "exception": false,
     "start_time": "2023-07-07T12:44:22.300772",
     "status": "completed"
    },
    "tags": []
   },
   "outputs": [],
   "source": [
    "df[\"rating\"] = df[\"rating\"].str.extract(r\"(\\d+)\", expand=False).astype(int)"
   ]
  },
  {
   "cell_type": "code",
   "execution_count": 7,
   "id": "c66f00a0",
   "metadata": {
    "execution": {
     "iopub.execute_input": "2023-07-07T12:44:22.402160Z",
     "iopub.status.busy": "2023-07-07T12:44:22.401840Z",
     "iopub.status.idle": "2023-07-07T12:44:22.456824Z",
     "shell.execute_reply": "2023-07-07T12:44:22.455830Z"
    },
    "papermill": {
     "duration": 0.075708,
     "end_time": "2023-07-07T12:44:22.459117",
     "exception": false,
     "start_time": "2023-07-07T12:44:22.383409",
     "status": "completed"
    },
    "tags": []
   },
   "outputs": [],
   "source": [
    "df[\"review\"] = df[\"review\"].str.encode(\"ascii\", \"ignore\").str.decode(\"utf-8\")"
   ]
  },
  {
   "cell_type": "code",
   "execution_count": 8,
   "id": "b031f22b",
   "metadata": {
    "execution": {
     "iopub.execute_input": "2023-07-07T12:44:22.496565Z",
     "iopub.status.busy": "2023-07-07T12:44:22.496236Z",
     "iopub.status.idle": "2023-07-07T12:44:22.509748Z",
     "shell.execute_reply": "2023-07-07T12:44:22.508889Z"
    },
    "papermill": {
     "duration": 0.034766,
     "end_time": "2023-07-07T12:44:22.511902",
     "exception": false,
     "start_time": "2023-07-07T12:44:22.477136",
     "status": "completed"
    },
    "tags": []
   },
   "outputs": [],
   "source": [
    "review_mapping = {1: 0, 2: 0, 3: None, 4: 1, 5: 1}\n",
    "df[\"rating\"] = df[\"rating\"].map(review_mapping)\n",
    "\n",
    "# Drop rows with review value equal to 3\n",
    "df = df.dropna(subset=[\"rating\"])"
   ]
  },
  {
   "cell_type": "code",
   "execution_count": 9,
   "id": "0b8dd299",
   "metadata": {
    "execution": {
     "iopub.execute_input": "2023-07-07T12:44:22.549490Z",
     "iopub.status.busy": "2023-07-07T12:44:22.549149Z",
     "iopub.status.idle": "2023-07-07T12:44:22.555487Z",
     "shell.execute_reply": "2023-07-07T12:44:22.554625Z"
    },
    "papermill": {
     "duration": 0.027487,
     "end_time": "2023-07-07T12:44:22.557758",
     "exception": false,
     "start_time": "2023-07-07T12:44:22.530271",
     "status": "completed"
    },
    "tags": []
   },
   "outputs": [],
   "source": [
    "df = df[[\"review\", \"rating\"]]"
   ]
  },
  {
   "cell_type": "code",
   "execution_count": 10,
   "id": "97150f6d",
   "metadata": {
    "execution": {
     "iopub.execute_input": "2023-07-07T12:44:22.597339Z",
     "iopub.status.busy": "2023-07-07T12:44:22.596585Z",
     "iopub.status.idle": "2023-07-07T12:44:22.607956Z",
     "shell.execute_reply": "2023-07-07T12:44:22.606971Z"
    },
    "papermill": {
     "duration": 0.033816,
     "end_time": "2023-07-07T12:44:22.610146",
     "exception": false,
     "start_time": "2023-07-07T12:44:22.576330",
     "status": "completed"
    },
    "tags": []
   },
   "outputs": [
    {
     "data": {
      "text/html": [
       "<div>\n",
       "<style scoped>\n",
       "    .dataframe tbody tr th:only-of-type {\n",
       "        vertical-align: middle;\n",
       "    }\n",
       "\n",
       "    .dataframe tbody tr th {\n",
       "        vertical-align: top;\n",
       "    }\n",
       "\n",
       "    .dataframe thead th {\n",
       "        text-align: right;\n",
       "    }\n",
       "</style>\n",
       "<table border=\"1\" class=\"dataframe\">\n",
       "  <thead>\n",
       "    <tr style=\"text-align: right;\">\n",
       "      <th></th>\n",
       "      <th>review</th>\n",
       "      <th>rating</th>\n",
       "    </tr>\n",
       "  </thead>\n",
       "  <tbody>\n",
       "    <tr>\n",
       "      <th>0</th>\n",
       "      <td>Why does it look like someone spit on my food?...</td>\n",
       "      <td>0.0</td>\n",
       "    </tr>\n",
       "    <tr>\n",
       "      <th>1</th>\n",
       "      <td>It'd McDonalds. It is what it is as far as the...</td>\n",
       "      <td>1.0</td>\n",
       "    </tr>\n",
       "    <tr>\n",
       "      <th>2</th>\n",
       "      <td>Made a mobile order got to the speaker and che...</td>\n",
       "      <td>0.0</td>\n",
       "    </tr>\n",
       "    <tr>\n",
       "      <th>3</th>\n",
       "      <td>My mc. Crispy chicken sandwich was  customer s...</td>\n",
       "      <td>1.0</td>\n",
       "    </tr>\n",
       "    <tr>\n",
       "      <th>4</th>\n",
       "      <td>I repeat my order 3 times in the drive thru, a...</td>\n",
       "      <td>0.0</td>\n",
       "    </tr>\n",
       "  </tbody>\n",
       "</table>\n",
       "</div>"
      ],
      "text/plain": [
       "                                              review  rating\n",
       "0  Why does it look like someone spit on my food?...     0.0\n",
       "1  It'd McDonalds. It is what it is as far as the...     1.0\n",
       "2  Made a mobile order got to the speaker and che...     0.0\n",
       "3  My mc. Crispy chicken sandwich was  customer s...     1.0\n",
       "4  I repeat my order 3 times in the drive thru, a...     0.0"
      ]
     },
     "execution_count": 10,
     "metadata": {},
     "output_type": "execute_result"
    }
   ],
   "source": [
    "df.head()"
   ]
  },
  {
   "cell_type": "markdown",
   "id": "ac4480f5",
   "metadata": {
    "papermill": {
     "duration": 0.018874,
     "end_time": "2023-07-07T12:44:22.648697",
     "exception": false,
     "start_time": "2023-07-07T12:44:22.629823",
     "status": "completed"
    },
    "tags": []
   },
   "source": [
    "### Text tokenization using Tokenizers"
   ]
  },
  {
   "cell_type": "code",
   "execution_count": 11,
   "id": "18133996",
   "metadata": {
    "execution": {
     "iopub.execute_input": "2023-07-07T12:44:22.689550Z",
     "iopub.status.busy": "2023-07-07T12:44:22.688832Z",
     "iopub.status.idle": "2023-07-07T12:44:22.693689Z",
     "shell.execute_reply": "2023-07-07T12:44:22.692773Z"
    },
    "papermill": {
     "duration": 0.027108,
     "end_time": "2023-07-07T12:44:22.695767",
     "exception": false,
     "start_time": "2023-07-07T12:44:22.668659",
     "status": "completed"
    },
    "tags": []
   },
   "outputs": [],
   "source": [
    "# Instantiate the tokenizer\n",
    "sequence_length = 512\n",
    "vocab_size = 10_000\n",
    "\n",
    "tokenizer = ByteLevelBPETokenizer()"
   ]
  },
  {
   "cell_type": "code",
   "execution_count": 12,
   "id": "d862db4d",
   "metadata": {
    "execution": {
     "iopub.execute_input": "2023-07-07T12:44:22.732724Z",
     "iopub.status.busy": "2023-07-07T12:44:22.732119Z",
     "iopub.status.idle": "2023-07-07T12:44:24.912216Z",
     "shell.execute_reply": "2023-07-07T12:44:24.910699Z"
    },
    "papermill": {
     "duration": 2.201412,
     "end_time": "2023-07-07T12:44:24.914709",
     "exception": false,
     "start_time": "2023-07-07T12:44:22.713297",
     "status": "completed"
    },
    "tags": []
   },
   "outputs": [
    {
     "name": "stdout",
     "output_type": "stream",
     "text": [
      "\n",
      "\n",
      "\n"
     ]
    }
   ],
   "source": [
    "tokenizer.train_from_iterator(\n",
    "    df[\"review\"], vocab_size=vocab_size, special_tokens=[\"<pad>\"])"
   ]
  },
  {
   "cell_type": "code",
   "execution_count": 13,
   "id": "47b9f4aa",
   "metadata": {
    "execution": {
     "iopub.execute_input": "2023-07-07T12:44:24.952158Z",
     "iopub.status.busy": "2023-07-07T12:44:24.951809Z",
     "iopub.status.idle": "2023-07-07T12:44:25.687908Z",
     "shell.execute_reply": "2023-07-07T12:44:25.686527Z"
    },
    "papermill": {
     "duration": 0.757963,
     "end_time": "2023-07-07T12:44:25.690558",
     "exception": false,
     "start_time": "2023-07-07T12:44:24.932595",
     "status": "completed"
    },
    "tags": []
   },
   "outputs": [],
   "source": [
    "# Tokenize the sequences\n",
    "encode_batch = tokenizer.encode_batch\n",
    "\n",
    "df[\"encoded_sequence\"] = [i.ids for i in encode_batch(df[\"review\"])]"
   ]
  },
  {
   "cell_type": "code",
   "execution_count": 14,
   "id": "b0f62008",
   "metadata": {
    "execution": {
     "iopub.execute_input": "2023-07-07T12:44:25.728737Z",
     "iopub.status.busy": "2023-07-07T12:44:25.728395Z",
     "iopub.status.idle": "2023-07-07T12:44:25.754496Z",
     "shell.execute_reply": "2023-07-07T12:44:25.753457Z"
    },
    "papermill": {
     "duration": 0.047472,
     "end_time": "2023-07-07T12:44:25.756581",
     "exception": false,
     "start_time": "2023-07-07T12:44:25.709109",
     "status": "completed"
    },
    "tags": []
   },
   "outputs": [
    {
     "data": {
      "text/plain": [
       "719"
      ]
     },
     "execution_count": 14,
     "metadata": {},
     "output_type": "execute_result"
    }
   ],
   "source": [
    "max(df[\"encoded_sequence\"].apply(len))"
   ]
  },
  {
   "cell_type": "code",
   "execution_count": 15,
   "id": "0f83dc7b",
   "metadata": {
    "execution": {
     "iopub.execute_input": "2023-07-07T12:44:25.795290Z",
     "iopub.status.busy": "2023-07-07T12:44:25.794935Z",
     "iopub.status.idle": "2023-07-07T12:44:26.368520Z",
     "shell.execute_reply": "2023-07-07T12:44:26.367122Z"
    },
    "papermill": {
     "duration": 0.596677,
     "end_time": "2023-07-07T12:44:26.371401",
     "exception": false,
     "start_time": "2023-07-07T12:44:25.774724",
     "status": "completed"
    },
    "tags": []
   },
   "outputs": [],
   "source": [
    "# Pad the sequences to sequence_length\n",
    "df[\"padded_sequence\"] = tf.keras.preprocessing.sequence.pad_sequences(\n",
    "    df[\"encoded_sequence\"], maxlen=sequence_length, padding=\"post\", truncating=\"post\").tolist()"
   ]
  },
  {
   "cell_type": "code",
   "execution_count": 16,
   "id": "c15e7d4c",
   "metadata": {
    "execution": {
     "iopub.execute_input": "2023-07-07T12:44:26.410365Z",
     "iopub.status.busy": "2023-07-07T12:44:26.409993Z",
     "iopub.status.idle": "2023-07-07T12:44:26.435487Z",
     "shell.execute_reply": "2023-07-07T12:44:26.434471Z"
    },
    "papermill": {
     "duration": 0.047994,
     "end_time": "2023-07-07T12:44:26.438128",
     "exception": false,
     "start_time": "2023-07-07T12:44:26.390134",
     "status": "completed"
    },
    "tags": []
   },
   "outputs": [
    {
     "data": {
      "text/html": [
       "<div>\n",
       "<style scoped>\n",
       "    .dataframe tbody tr th:only-of-type {\n",
       "        vertical-align: middle;\n",
       "    }\n",
       "\n",
       "    .dataframe tbody tr th {\n",
       "        vertical-align: top;\n",
       "    }\n",
       "\n",
       "    .dataframe thead th {\n",
       "        text-align: right;\n",
       "    }\n",
       "</style>\n",
       "<table border=\"1\" class=\"dataframe\">\n",
       "  <thead>\n",
       "    <tr style=\"text-align: right;\">\n",
       "      <th></th>\n",
       "      <th>review</th>\n",
       "      <th>rating</th>\n",
       "      <th>encoded_sequence</th>\n",
       "      <th>padded_sequence</th>\n",
       "    </tr>\n",
       "  </thead>\n",
       "  <tbody>\n",
       "    <tr>\n",
       "      <th>0</th>\n",
       "      <td>Why does it look like someone spit on my food?...</td>\n",
       "      <td>0.0</td>\n",
       "      <td>[4056, 944, 316, 1230, 465, 1116, 4358, 319, 3...</td>\n",
       "      <td>[4056, 944, 316, 1230, 465, 1116, 4358, 319, 3...</td>\n",
       "    </tr>\n",
       "    <tr>\n",
       "      <th>1</th>\n",
       "      <td>It'd McDonalds. It is what it is as far as the...</td>\n",
       "      <td>1.0</td>\n",
       "      <td>[623, 1465, 577, 14, 588, 314, 559, 316, 314, ...</td>\n",
       "      <td>[623, 1465, 577, 14, 588, 314, 559, 316, 314, ...</td>\n",
       "    </tr>\n",
       "    <tr>\n",
       "      <th>2</th>\n",
       "      <td>Made a mobile order got to the speaker and che...</td>\n",
       "      <td>0.0</td>\n",
       "      <td>[5806, 258, 1461, 320, 519, 276, 263, 2054, 27...</td>\n",
       "      <td>[5806, 258, 1461, 320, 519, 276, 263, 2054, 27...</td>\n",
       "    </tr>\n",
       "    <tr>\n",
       "      <th>3</th>\n",
       "      <td>My mc. Crispy chicken sandwich was  customer s...</td>\n",
       "      <td>1.0</td>\n",
       "      <td>[1183, 734, 14, 7073, 845, 936, 301, 221, 566,...</td>\n",
       "      <td>[1183, 734, 14, 7073, 845, 936, 301, 221, 566,...</td>\n",
       "    </tr>\n",
       "    <tr>\n",
       "      <th>4</th>\n",
       "      <td>I repeat my order 3 times in the drive thru, a...</td>\n",
       "      <td>0.0</td>\n",
       "      <td>[41, 3040, 344, 320, 582, 751, 309, 263, 423, ...</td>\n",
       "      <td>[41, 3040, 344, 320, 582, 751, 309, 263, 423, ...</td>\n",
       "    </tr>\n",
       "  </tbody>\n",
       "</table>\n",
       "</div>"
      ],
      "text/plain": [
       "                                              review  rating  \\\n",
       "0  Why does it look like someone spit on my food?...     0.0   \n",
       "1  It'd McDonalds. It is what it is as far as the...     1.0   \n",
       "2  Made a mobile order got to the speaker and che...     0.0   \n",
       "3  My mc. Crispy chicken sandwich was  customer s...     1.0   \n",
       "4  I repeat my order 3 times in the drive thru, a...     0.0   \n",
       "\n",
       "                                    encoded_sequence  \\\n",
       "0  [4056, 944, 316, 1230, 465, 1116, 4358, 319, 3...   \n",
       "1  [623, 1465, 577, 14, 588, 314, 559, 316, 314, ...   \n",
       "2  [5806, 258, 1461, 320, 519, 276, 263, 2054, 27...   \n",
       "3  [1183, 734, 14, 7073, 845, 936, 301, 221, 566,...   \n",
       "4  [41, 3040, 344, 320, 582, 751, 309, 263, 423, ...   \n",
       "\n",
       "                                     padded_sequence  \n",
       "0  [4056, 944, 316, 1230, 465, 1116, 4358, 319, 3...  \n",
       "1  [623, 1465, 577, 14, 588, 314, 559, 316, 314, ...  \n",
       "2  [5806, 258, 1461, 320, 519, 276, 263, 2054, 27...  \n",
       "3  [1183, 734, 14, 7073, 845, 936, 301, 221, 566,...  \n",
       "4  [41, 3040, 344, 320, 582, 751, 309, 263, 423, ...  "
      ]
     },
     "execution_count": 16,
     "metadata": {},
     "output_type": "execute_result"
    }
   ],
   "source": [
    "df.head(5)"
   ]
  },
  {
   "attachments": {
    "b7260c2d-f0fc-4eb8-870f-215bcd916eeb.png": {
     "image/png": "[encoded data removed]"
    }
   },
   "cell_type": "markdown",
   "id": "b7009deb",
   "metadata": {
    "papermill": {
     "duration": 0.018321,
     "end_time": "2023-07-07T12:44:26.474815",
     "exception": false,
     "start_time": "2023-07-07T12:44:26.456494",
     "status": "completed"
    },
    "tags": []
   },
   "source": [
    "## Transformer model architechure\n",
    "\n",
    "The Transformer model architechure was introduced by Vaswani et al. in the paper \"Attention is All You Need\" in 2017. It is a type of deep learning model designed primarily for sequence-to-sequence tasks, such as machine translation and text summarization, however it is widely used for classification (Think BERT). The main innovation of the Transformer model is its reliance on self-attention mechanisms instead of recurrent or convolutional layers.\n",
    "\n",
    "The Transformer architecture consists of two major components: the encoder and the decoder. Both the encoder and the decoder are composed of a stack of identical layers, and each layer contains two main sublayers: a multi-head self-attention mechanism and a position-wise feed-forward network. In our case, we remove the decoder as we are doing classification work and not sequence-to-sequence tasks like autoregressive language modeling or text generation.\n",
    "\n",
    "\n",
    "![image.png](attachment:b7260c2d-f0fc-4eb8-870f-215bcd916eeb.png)"
   ]
  },
  {
   "cell_type": "code",
   "execution_count": 17,
   "id": "f97efd4c",
   "metadata": {
    "execution": {
     "iopub.execute_input": "2023-07-07T12:44:26.513068Z",
     "iopub.status.busy": "2023-07-07T12:44:26.512743Z",
     "iopub.status.idle": "2023-07-07T12:44:26.519120Z",
     "shell.execute_reply": "2023-07-07T12:44:26.518223Z"
    },
    "papermill": {
     "duration": 0.027921,
     "end_time": "2023-07-07T12:44:26.521062",
     "exception": false,
     "start_time": "2023-07-07T12:44:26.493141",
     "status": "completed"
    },
    "tags": []
   },
   "outputs": [],
   "source": [
    "class BaseAttention(tf.keras.layers.Layer):\n",
    "    def __init__(self, **kwargs):\n",
    "        super(BaseAttention, self).__init__()\n",
    "\n",
    "        self.mha = tf.keras.layers.MultiHeadAttention(**kwargs)\n",
    "        self.layernorm = tf.keras.layers.LayerNormalization()\n",
    "        self.add = tf.keras.layers.Add()"
   ]
  },
  {
   "cell_type": "code",
   "execution_count": 18,
   "id": "5c42949b",
   "metadata": {
    "execution": {
     "iopub.execute_input": "2023-07-07T12:44:26.561119Z",
     "iopub.status.busy": "2023-07-07T12:44:26.560426Z",
     "iopub.status.idle": "2023-07-07T12:44:26.566577Z",
     "shell.execute_reply": "2023-07-07T12:44:26.565572Z"
    },
    "papermill": {
     "duration": 0.0288,
     "end_time": "2023-07-07T12:44:26.568668",
     "exception": false,
     "start_time": "2023-07-07T12:44:26.539868",
     "status": "completed"
    },
    "tags": []
   },
   "outputs": [],
   "source": [
    "class GlobalSelfAttention(BaseAttention):\n",
    "    def call(self, x):\n",
    "        attn_output = self.mha(\n",
    "            query=x,\n",
    "            value=x,\n",
    "            key=x\n",
    "        )\n",
    "\n",
    "        x = self.add([x, attn_output])\n",
    "        x = self.layernorm(x)\n",
    "\n",
    "        return x"
   ]
  },
  {
   "cell_type": "markdown",
   "id": "16f5e5e3",
   "metadata": {
    "papermill": {
     "duration": 0.020175,
     "end_time": "2023-07-07T12:44:26.608006",
     "exception": false,
     "start_time": "2023-07-07T12:44:26.587831",
     "status": "completed"
    },
    "tags": []
   },
   "source": [
    "### Positional encoding"
   ]
  },
  {
   "cell_type": "code",
   "execution_count": 19,
   "id": "5f7a465b",
   "metadata": {
    "execution": {
     "iopub.execute_input": "2023-07-07T12:44:26.651170Z",
     "iopub.status.busy": "2023-07-07T12:44:26.650811Z",
     "iopub.status.idle": "2023-07-07T12:44:26.658526Z",
     "shell.execute_reply": "2023-07-07T12:44:26.657454Z"
    },
    "papermill": {
     "duration": 0.032244,
     "end_time": "2023-07-07T12:44:26.660803",
     "exception": false,
     "start_time": "2023-07-07T12:44:26.628559",
     "status": "completed"
    },
    "tags": []
   },
   "outputs": [],
   "source": [
    "def positional_encoding(length, depth):\n",
    "    depth = depth / 2\n",
    "\n",
    "    positions = np.arange(length)[:, np.newaxis]  # (seq, 1)\n",
    "    depths = np.arange(depth)[np.newaxis, :] / depth  # (1, depth)\n",
    "\n",
    "    angle_rates = 1 / (10000 ** depths)  # (1, depth)\n",
    "    angle_rads = positions * angle_rates  # (pos, depth)\n",
    "\n",
    "    pos_encoding = np.concatenate(\n",
    "        [np.sin(angle_rads), np.cos(angle_rads)],\n",
    "        axis=-1\n",
    "    )\n",
    "\n",
    "    return tf.cast(pos_encoding, dtype=tf.float32)"
   ]
  },
  {
   "cell_type": "markdown",
   "id": "a2a5ff73",
   "metadata": {
    "papermill": {
     "duration": 0.019007,
     "end_time": "2023-07-07T12:44:26.699823",
     "exception": false,
     "start_time": "2023-07-07T12:44:26.680816",
     "status": "completed"
    },
    "tags": []
   },
   "source": [
    "### Positional embedding"
   ]
  },
  {
   "cell_type": "code",
   "execution_count": 20,
   "id": "5de0852f",
   "metadata": {
    "execution": {
     "iopub.execute_input": "2023-07-07T12:44:26.739220Z",
     "iopub.status.busy": "2023-07-07T12:44:26.738487Z",
     "iopub.status.idle": "2023-07-07T12:44:26.749703Z",
     "shell.execute_reply": "2023-07-07T12:44:26.748589Z"
    },
    "papermill": {
     "duration": 0.033239,
     "end_time": "2023-07-07T12:44:26.751803",
     "exception": false,
     "start_time": "2023-07-07T12:44:26.718564",
     "status": "completed"
    },
    "tags": []
   },
   "outputs": [],
   "source": [
    "class PositionalEmbedding(tf.keras.layers.Layer):\n",
    "    def __init__(self, vocab_size, d_model):\n",
    "        super(PositionalEmbedding, self).__init__()\n",
    "        \n",
    "        self.d_model = d_model\n",
    "        \n",
    "        self.embedding = tf.keras.layers.Embedding(\n",
    "            vocab_size, d_model, mask_zero=True)\n",
    "        self.pos_encoding = positional_encoding(length=2048, depth=d_model)\n",
    "\n",
    "    def compute_mask(self, *args, **kwargs):\n",
    "        return self.embedding.compute_mask(*args, **kwargs)\n",
    "\n",
    "    def call(self, x):\n",
    "        seq_len = tf.shape(x)[1]\n",
    "        x = self.embedding(x)\n",
    "\n",
    "        x *= tf.math.sqrt(tf.cast(self.d_model, tf.float32))\n",
    "        x += self.pos_encoding[tf.newaxis, :seq_len, :]\n",
    "\n",
    "        return x"
   ]
  },
  {
   "cell_type": "markdown",
   "id": "e17649bb",
   "metadata": {
    "papermill": {
     "duration": 0.018578,
     "end_time": "2023-07-07T12:44:26.789712",
     "exception": false,
     "start_time": "2023-07-07T12:44:26.771134",
     "status": "completed"
    },
    "tags": []
   },
   "source": [
    "### Feed forward"
   ]
  },
  {
   "cell_type": "code",
   "execution_count": 21,
   "id": "b385241b",
   "metadata": {
    "execution": {
     "iopub.execute_input": "2023-07-07T12:44:26.828549Z",
     "iopub.status.busy": "2023-07-07T12:44:26.828240Z",
     "iopub.status.idle": "2023-07-07T12:44:26.836833Z",
     "shell.execute_reply": "2023-07-07T12:44:26.835803Z"
    },
    "papermill": {
     "duration": 0.030476,
     "end_time": "2023-07-07T12:44:26.838940",
     "exception": false,
     "start_time": "2023-07-07T12:44:26.808464",
     "status": "completed"
    },
    "tags": []
   },
   "outputs": [],
   "source": [
    "class FeedForward(tf.keras.layers.Layer):\n",
    "    def __init__(self, d_model, dff, dropout_rate=0.1):\n",
    "        super(FeedForward, self).__init__()\n",
    "\n",
    "        self.ffn = tf.keras.Sequential([\n",
    "            tf.keras.layers.Dense(dff, activation=\"gelu\"),\n",
    "            tf.keras.layers.Dense(d_model),\n",
    "        ])\n",
    "\n",
    "        self.dropout = tf.keras.layers.Dropout(dropout_rate)\n",
    "\n",
    "        self.add = tf.keras.layers.Add()\n",
    "        self.layer_norm = tf.keras.layers.LayerNormalization()\n",
    "\n",
    "    def call(self, x):\n",
    "        ffn_output = self.ffn(x)\n",
    "        ffn_output = self.dropout(ffn_output)\n",
    "\n",
    "        x = self.add([x, ffn_output])\n",
    "        x = self.layer_norm(x)\n",
    "\n",
    "        return x"
   ]
  },
  {
   "cell_type": "markdown",
   "id": "48d8d6a5",
   "metadata": {
    "papermill": {
     "duration": 0.018381,
     "end_time": "2023-07-07T12:44:26.875922",
     "exception": false,
     "start_time": "2023-07-07T12:44:26.857541",
     "status": "completed"
    },
    "tags": []
   },
   "source": [
    "### Encoder layer"
   ]
  },
  {
   "cell_type": "code",
   "execution_count": 22,
   "id": "d8ab804c",
   "metadata": {
    "execution": {
     "iopub.execute_input": "2023-07-07T12:44:26.916447Z",
     "iopub.status.busy": "2023-07-07T12:44:26.915517Z",
     "iopub.status.idle": "2023-07-07T12:44:26.923319Z",
     "shell.execute_reply": "2023-07-07T12:44:26.922191Z"
    },
    "papermill": {
     "duration": 0.030752,
     "end_time": "2023-07-07T12:44:26.925379",
     "exception": false,
     "start_time": "2023-07-07T12:44:26.894627",
     "status": "completed"
    },
    "tags": []
   },
   "outputs": [],
   "source": [
    "class EncoderLayer(tf.keras.layers.Layer):\n",
    "    def __init__(self, *, d_model, num_heads, dff, dropout_rate=0.1):\n",
    "        super(EncoderLayer, self).__init__()\n",
    "\n",
    "        self.self_attention = GlobalSelfAttention(\n",
    "            num_heads=num_heads,\n",
    "            key_dim=d_model,\n",
    "            dropout=dropout_rate)\n",
    "\n",
    "        self.ffn = FeedForward(d_model, dff)\n",
    "\n",
    "    def call(self, x):\n",
    "        x = self.self_attention(x)\n",
    "        x = self.ffn(x)\n",
    "\n",
    "        return x"
   ]
  },
  {
   "cell_type": "markdown",
   "id": "2e0d5b8f",
   "metadata": {
    "papermill": {
     "duration": 0.01896,
     "end_time": "2023-07-07T12:44:26.964899",
     "exception": false,
     "start_time": "2023-07-07T12:44:26.945939",
     "status": "completed"
    },
    "tags": []
   },
   "source": [
    "### Encoder"
   ]
  },
  {
   "cell_type": "code",
   "execution_count": 23,
   "id": "40eff784",
   "metadata": {
    "execution": {
     "iopub.execute_input": "2023-07-07T12:44:27.005045Z",
     "iopub.status.busy": "2023-07-07T12:44:27.004175Z",
     "iopub.status.idle": "2023-07-07T12:44:27.015517Z",
     "shell.execute_reply": "2023-07-07T12:44:27.013791Z"
    },
    "papermill": {
     "duration": 0.03458,
     "end_time": "2023-07-07T12:44:27.018111",
     "exception": false,
     "start_time": "2023-07-07T12:44:26.983531",
     "status": "completed"
    },
    "tags": []
   },
   "outputs": [],
   "source": [
    "class Encoder(tf.keras.layers.Layer):\n",
    "    def __init__(self, *, num_layers, d_model, num_heads,\n",
    "                 dff, vocab_size, dropout_rate=0.1):\n",
    "\n",
    "        super(Encoder, self).__init__()\n",
    "\n",
    "        self.d_model = d_model\n",
    "        self.num_layers = num_layers\n",
    "\n",
    "        self.pos_embedding = PositionalEmbedding(\n",
    "            vocab_size=vocab_size, d_model=d_model)\n",
    "\n",
    "        self.enc_layers = [\n",
    "            EncoderLayer(d_model=d_model,\n",
    "                         num_heads=num_heads,\n",
    "                         dff=dff,\n",
    "                         dropout_rate=dropout_rate)\n",
    "            for _ in range(num_layers)]\n",
    "\n",
    "        self.dropout = tf.keras.layers.Dropout(dropout_rate)\n",
    "\n",
    "    def call(self, x):\n",
    "        x = self.pos_embedding(x)  # (batch_size, seq_len, d_model)\n",
    "        x = self.dropout(x)\n",
    "\n",
    "        for i in range(self.num_layers):\n",
    "            x = self.enc_layers[i](x)\n",
    "\n",
    "        return x  # (batch_size, seq_len, d_model)"
   ]
  },
  {
   "cell_type": "markdown",
   "id": "c381cd6e",
   "metadata": {
    "papermill": {
     "duration": 0.01958,
     "end_time": "2023-07-07T12:44:27.057245",
     "exception": false,
     "start_time": "2023-07-07T12:44:27.037665",
     "status": "completed"
    },
    "tags": []
   },
   "source": [
    "### Transformer"
   ]
  },
  {
   "cell_type": "code",
   "execution_count": 24,
   "id": "5914acdc",
   "metadata": {
    "execution": {
     "iopub.execute_input": "2023-07-07T12:44:27.096071Z",
     "iopub.status.busy": "2023-07-07T12:44:27.095738Z",
     "iopub.status.idle": "2023-07-07T12:44:27.103760Z",
     "shell.execute_reply": "2023-07-07T12:44:27.102735Z"
    },
    "papermill": {
     "duration": 0.030042,
     "end_time": "2023-07-07T12:44:27.105776",
     "exception": false,
     "start_time": "2023-07-07T12:44:27.075734",
     "status": "completed"
    },
    "tags": []
   },
   "outputs": [],
   "source": [
    "class Transformer(tf.keras.Model):\n",
    "    def __init__(self, *, num_layers, d_model, num_heads, dff,\n",
    "                 input_vocab_size, target_vocab_size, dropout_rate=0.1):\n",
    "        super(Transformer, self).__init__()\n",
    "        \n",
    "        self.encoder = Encoder(num_layers=num_layers, d_model=d_model,\n",
    "                               num_heads=num_heads, dff=dff,\n",
    "                               vocab_size=input_vocab_size,\n",
    "                               dropout_rate=dropout_rate)\n",
    "\n",
    "    def call(self, inputs):\n",
    "        logits = self.encoder(inputs)\n",
    "\n",
    "        try:\n",
    "            del logits._keras_mask\n",
    "        except AttributeError:\n",
    "            pass\n",
    "\n",
    "        return logits"
   ]
  },
  {
   "cell_type": "markdown",
   "id": "ae91add9",
   "metadata": {
    "papermill": {
     "duration": 0.01879,
     "end_time": "2023-07-07T12:44:27.143590",
     "exception": false,
     "start_time": "2023-07-07T12:44:27.124800",
     "status": "completed"
    },
    "tags": []
   },
   "source": [
    "## Creating the transformer model\n",
    "### Model hyperparameters"
   ]
  },
  {
   "cell_type": "code",
   "execution_count": 25,
   "id": "07a0e651",
   "metadata": {
    "execution": {
     "iopub.execute_input": "2023-07-07T12:44:27.182747Z",
     "iopub.status.busy": "2023-07-07T12:44:27.182459Z",
     "iopub.status.idle": "2023-07-07T12:44:27.187667Z",
     "shell.execute_reply": "2023-07-07T12:44:27.186575Z"
    },
    "papermill": {
     "duration": 0.027404,
     "end_time": "2023-07-07T12:44:27.189751",
     "exception": false,
     "start_time": "2023-07-07T12:44:27.162347",
     "status": "completed"
    },
    "tags": []
   },
   "outputs": [],
   "source": [
    "vocab_size = tokenizer.get_vocab_size()\n",
    "num_layers = 4\n",
    "d_model = 256\n",
    "dff = 300\n",
    "num_heads = 8\n",
    "dropout_rate = 0.1"
   ]
  },
  {
   "cell_type": "markdown",
   "id": "9dd7e26a",
   "metadata": {
    "papermill": {
     "duration": 0.019039,
     "end_time": "2023-07-07T12:44:27.227863",
     "exception": false,
     "start_time": "2023-07-07T12:44:27.208824",
     "status": "completed"
    },
    "tags": []
   },
   "source": [
    "### Learning rate schedule"
   ]
  },
  {
   "cell_type": "code",
   "execution_count": 26,
   "id": "5b5778e2",
   "metadata": {
    "execution": {
     "iopub.execute_input": "2023-07-07T12:44:27.266963Z",
     "iopub.status.busy": "2023-07-07T12:44:27.266644Z",
     "iopub.status.idle": "2023-07-07T12:44:27.271402Z",
     "shell.execute_reply": "2023-07-07T12:44:27.270506Z"
    },
    "papermill": {
     "duration": 0.026935,
     "end_time": "2023-07-07T12:44:27.273643",
     "exception": false,
     "start_time": "2023-07-07T12:44:27.246708",
     "status": "completed"
    },
    "tags": []
   },
   "outputs": [],
   "source": [
    "lr_schedule = tf.keras.optimizers.schedules.ExponentialDecay(\n",
    "    initial_learning_rate=4e-4,\n",
    "    decay_steps=30,\n",
    "    decay_rate=0.9\n",
    ")"
   ]
  },
  {
   "cell_type": "markdown",
   "id": "c1d9b063",
   "metadata": {
    "papermill": {
     "duration": 0.018887,
     "end_time": "2023-07-07T12:44:27.311374",
     "exception": false,
     "start_time": "2023-07-07T12:44:27.292487",
     "status": "completed"
    },
    "tags": []
   },
   "source": [
    "### Model definition"
   ]
  },
  {
   "cell_type": "code",
   "execution_count": 27,
   "id": "0a1e5608",
   "metadata": {
    "execution": {
     "iopub.execute_input": "2023-07-07T12:44:27.350589Z",
     "iopub.status.busy": "2023-07-07T12:44:27.350315Z",
     "iopub.status.idle": "2023-07-07T12:44:34.225456Z",
     "shell.execute_reply": "2023-07-07T12:44:34.224083Z"
    },
    "papermill": {
     "duration": 6.898332,
     "end_time": "2023-07-07T12:44:34.228608",
     "exception": false,
     "start_time": "2023-07-07T12:44:27.330276",
     "status": "completed"
    },
    "tags": []
   },
   "outputs": [],
   "source": [
    "with strategy.scope():\n",
    "    inputs = tf.keras.Input(shape=(None,))\n",
    "\n",
    "    transformer = Transformer(\n",
    "        num_layers=num_layers,\n",
    "        d_model=d_model,\n",
    "        num_heads=num_heads,\n",
    "        dff=dff,\n",
    "        input_vocab_size=vocab_size,\n",
    "        target_vocab_size=None,\n",
    "        dropout_rate=dropout_rate\n",
    "    )\n",
    "\n",
    "    x = transformer(inputs)\n",
    "\n",
    "    classif_layers = [\n",
    "        tf.keras.layers.Bidirectional(\n",
    "            tf.keras.layers.LSTM(128, return_sequences=True)),\n",
    "        tf.keras.layers.LayerNormalization(),\n",
    "\n",
    "        tf.keras.layers.Bidirectional(tf.keras.layers.LSTM(128)),\n",
    "        tf.keras.layers.LayerNormalization(),\n",
    "\n",
    "        tf.keras.layers.Dense(128, activation=\"relu\",\n",
    "                              kernel_regularizer=tf.keras.regularizers.l2(0.01)),\n",
    "        tf.keras.layers.BatchNormalization(),\n",
    "        tf.keras.layers.Dropout(0.20)\n",
    "    ]\n",
    "\n",
    "    for layer in classif_layers:\n",
    "        x = layer(x)\n",
    "\n",
    "    outputs = tf.keras.layers.Dense(1, activation=\"sigmoid\")(x)\n",
    "\n",
    "    model = tf.keras.Model(inputs=inputs, outputs=outputs)\n",
    "\n",
    "    model.compile(loss=tf.keras.losses.BinaryCrossentropy(from_logits=False),\n",
    "                  optimizer=tf.keras.optimizers.Adam(\n",
    "                      learning_rate=lr_schedule, beta_1=0.9, beta_2=0.98, epsilon=1e-9),\n",
    "                  metrics=[\"accuracy\"])"
   ]
  },
  {
   "cell_type": "code",
   "execution_count": 28,
   "id": "abb18dcf",
   "metadata": {
    "execution": {
     "iopub.execute_input": "2023-07-07T12:44:34.272914Z",
     "iopub.status.busy": "2023-07-07T12:44:34.272463Z",
     "iopub.status.idle": "2023-07-07T12:44:34.320594Z",
     "shell.execute_reply": "2023-07-07T12:44:34.319200Z"
    },
    "papermill": {
     "duration": 0.072133,
     "end_time": "2023-07-07T12:44:34.322637",
     "exception": false,
     "start_time": "2023-07-07T12:44:34.250504",
     "status": "completed"
    },
    "tags": []
   },
   "outputs": [
    {
     "name": "stdout",
     "output_type": "stream",
     "text": [
      "Model: \"model\"\n",
      "_________________________________________________________________\n",
      " Layer (type)                Output Shape              Param #   \n",
      "=================================================================\n",
      " input_1 (InputLayer)        [(None, None)]            0         \n",
      "                                                                 \n",
      " transformer (Transformer)   (None, None, 256)         11594928  \n",
      "                                                                 \n",
      " bidirectional (Bidirectiona  (None, None, 256)        394240    \n",
      " l)                                                              \n",
      "                                                                 \n",
      " layer_normalization_8 (Laye  (None, None, 256)        512       \n",
      " rNormalization)                                                 \n",
      "                                                                 \n",
      " bidirectional_1 (Bidirectio  (None, 256)              394240    \n",
      " nal)                                                            \n",
      "                                                                 \n",
      " layer_normalization_9 (Laye  (None, 256)              512       \n",
      " rNormalization)                                                 \n",
      "                                                                 \n",
      " dense_8 (Dense)             (None, 128)               32896     \n",
      "                                                                 \n",
      " batch_normalization (BatchN  (None, 128)              512       \n",
      " ormalization)                                                   \n",
      "                                                                 \n",
      " dropout_5 (Dropout)         (None, 128)               0         \n",
      "                                                                 \n",
      " dense_9 (Dense)             (None, 1)                 129       \n",
      "                                                                 \n",
      "=================================================================\n",
      "Total params: 12,417,969\n",
      "Trainable params: 12,417,713\n",
      "Non-trainable params: 256\n",
      "_________________________________________________________________\n"
     ]
    }
   ],
   "source": [
    "model.summary()"
   ]
  },
  {
   "cell_type": "markdown",
   "id": "91208a0d",
   "metadata": {
    "papermill": {
     "duration": 0.022062,
     "end_time": "2023-07-07T12:44:34.366875",
     "exception": false,
     "start_time": "2023-07-07T12:44:34.344813",
     "status": "completed"
    },
    "tags": []
   },
   "source": [
    "## Data preperation\n",
    "Here we convert all input data into NumPy arrays and prepare said arrays for the model. We are aiming for the following:\n",
    "  - Optimizing memory usage\n",
    "  - Improving data access efficiency\n",
    "  - Ensuring the data remains unmodified during the execution of subsequent code.\n",
    "  \n",
    "To achieve the above, we make the arrays contiguous, meaning the elements are stored in a continous block of memory, and we set the writeable flag to False, preventing accidental modifications to the data."
   ]
  },
  {
   "cell_type": "code",
   "execution_count": 29,
   "id": "8e359780",
   "metadata": {
    "execution": {
     "iopub.execute_input": "2023-07-07T12:44:34.413112Z",
     "iopub.status.busy": "2023-07-07T12:44:34.412754Z",
     "iopub.status.idle": "2023-07-07T12:44:35.542214Z",
     "shell.execute_reply": "2023-07-07T12:44:35.540777Z"
    },
    "papermill": {
     "duration": 1.155543,
     "end_time": "2023-07-07T12:44:35.544872",
     "exception": false,
     "start_time": "2023-07-07T12:44:34.389329",
     "status": "completed"
    },
    "tags": []
   },
   "outputs": [],
   "source": [
    "# Splitting the dataframe into training and testing sets\n",
    "train_df, test_df = train_test_split(df, test_size=0.2, random_state=42)\n",
    "\n",
    "X_train = np.array(train_df[\"padded_sequence\"].tolist())\n",
    "X_train = np.ascontiguousarray(X_train)\n",
    "X_train.flags.writeable = False\n",
    "\n",
    "y_train = tf.expand_dims(train_df[\"rating\"].tolist(), axis=1)\n",
    "y_train = np.ascontiguousarray(y_train)\n",
    "y_train.flags.writeable = False\n",
    "\n",
    "X_test = np.array(test_df[\"padded_sequence\"].tolist())\n",
    "X_test = np.ascontiguousarray(X_test)\n",
    "X_test.flags.writeable = False\n",
    "\n",
    "y_test = tf.expand_dims(test_df[\"rating\"].tolist(), axis=1)\n",
    "y_test = np.ascontiguousarray(y_test)\n",
    "y_test.flags.writeable = False"
   ]
  },
  {
   "cell_type": "markdown",
   "id": "48c61fcc",
   "metadata": {
    "papermill": {
     "duration": 0.022191,
     "end_time": "2023-07-07T12:44:35.589600",
     "exception": false,
     "start_time": "2023-07-07T12:44:35.567409",
     "status": "completed"
    },
    "tags": []
   },
   "source": [
    "### Using a `tf.Data` pipeline"
   ]
  },
  {
   "cell_type": "code",
   "execution_count": 30,
   "id": "7e0b43df",
   "metadata": {
    "execution": {
     "iopub.execute_input": "2023-07-07T12:44:35.635771Z",
     "iopub.status.busy": "2023-07-07T12:44:35.635456Z",
     "iopub.status.idle": "2023-07-07T12:44:35.755027Z",
     "shell.execute_reply": "2023-07-07T12:44:35.753767Z"
    },
    "papermill": {
     "duration": 0.145701,
     "end_time": "2023-07-07T12:44:35.757455",
     "exception": false,
     "start_time": "2023-07-07T12:44:35.611754",
     "status": "completed"
    },
    "tags": []
   },
   "outputs": [],
   "source": [
    "AUTOTUNE = tf.data.AUTOTUNE\n",
    "\n",
    "train_ds = tf.data.Dataset.from_tensor_slices((X_train, y_train)).batch(\n",
    "    strategy.num_replicas_in_sync * 128\n",
    ").cache().prefetch(AUTOTUNE)\n",
    "\n",
    "test_ds = tf.data.Dataset.from_tensor_slices((X_test, y_test)).batch(\n",
    "    strategy.num_replicas_in_sync * 128\n",
    ").cache().prefetch(AUTOTUNE)"
   ]
  },
  {
   "cell_type": "markdown",
   "id": "3ce4c013",
   "metadata": {
    "papermill": {
     "duration": 0.021939,
     "end_time": "2023-07-07T12:44:35.802102",
     "exception": false,
     "start_time": "2023-07-07T12:44:35.780163",
     "status": "completed"
    },
    "tags": []
   },
   "source": [
    "## Model training"
   ]
  },
  {
   "cell_type": "code",
   "execution_count": 31,
   "id": "e83381cc",
   "metadata": {
    "execution": {
     "iopub.execute_input": "2023-07-07T12:44:35.847789Z",
     "iopub.status.busy": "2023-07-07T12:44:35.847448Z",
     "iopub.status.idle": "2023-07-07T12:58:37.543713Z",
     "shell.execute_reply": "2023-07-07T12:58:37.542359Z"
    },
    "papermill": {
     "duration": 841.721895,
     "end_time": "2023-07-07T12:58:37.546069",
     "exception": false,
     "start_time": "2023-07-07T12:44:35.824174",
     "status": "completed"
    },
    "tags": []
   },
   "outputs": [
    {
     "name": "stdout",
     "output_type": "stream",
     "text": [
      "Epoch 1/32\n"
     ]
    },
    {
     "name": "stderr",
     "output_type": "stream",
     "text": [
      "2023-07-07 12:44:56.037917: E tensorflow/core/grappler/optimizers/meta_optimizer.cc:954] model_pruner failed: INVALID_ARGUMENT: Graph does not contain terminal node AssignAddVariableOp.\n",
      "2023-07-07 12:44:56.705288: E tensorflow/core/grappler/optimizers/meta_optimizer.cc:954] model_pruner failed: INVALID_ARGUMENT: Graph does not contain terminal node AssignAddVariableOp.\n"
     ]
    },
    {
     "name": "stdout",
     "output_type": "stream",
     "text": [
      "23/23 [==============================] - ETA: 0s - loss: 2.2637 - accuracy: 0.6641"
     ]
    },
    {
     "name": "stderr",
     "output_type": "stream",
     "text": [
      "2023-07-07 12:46:34.829383: E tensorflow/core/grappler/optimizers/meta_optimizer.cc:954] model_pruner failed: INVALID_ARGUMENT: Graph does not contain terminal node AssignAddVariableOp.\n",
      "2023-07-07 12:46:35.086359: E tensorflow/core/grappler/optimizers/meta_optimizer.cc:954] model_pruner failed: INVALID_ARGUMENT: Graph does not contain terminal node AssignAddVariableOp.\n"
     ]
    },
    {
     "name": "stdout",
     "output_type": "stream",
     "text": [
      "23/23 [==============================] - 132s 4s/step - loss: 2.2637 - accuracy: 0.6641 - val_loss: 2.1147 - val_accuracy: 0.6980\n",
      "Epoch 2/32\n",
      "23/23 [==============================] - 50s 2s/step - loss: 1.7925 - accuracy: 0.8543 - val_loss: 1.7629 - val_accuracy: 0.8634\n",
      "Epoch 3/32\n",
      "23/23 [==============================] - 50s 2s/step - loss: 1.4921 - accuracy: 0.9228 - val_loss: 1.5127 - val_accuracy: 0.9094\n",
      "Epoch 4/32\n",
      "23/23 [==============================] - 50s 2s/step - loss: 1.2942 - accuracy: 0.9454 - val_loss: 1.4002 - val_accuracy: 0.8950\n",
      "Epoch 5/32\n",
      "23/23 [==============================] - 50s 2s/step - loss: 1.1305 - accuracy: 0.9559 - val_loss: 1.3189 - val_accuracy: 0.8791\n",
      "Epoch 6/32\n",
      "23/23 [==============================] - 50s 2s/step - loss: 0.9828 - accuracy: 0.9671 - val_loss: 1.1335 - val_accuracy: 0.8961\n",
      "Epoch 7/32\n",
      "23/23 [==============================] - 50s 2s/step - loss: 0.8697 - accuracy: 0.9693 - val_loss: 0.9856 - val_accuracy: 0.9022\n",
      "Epoch 8/32\n",
      "23/23 [==============================] - 49s 2s/step - loss: 0.7784 - accuracy: 0.9686 - val_loss: 1.5971 - val_accuracy: 0.6043\n",
      "Epoch 9/32\n",
      "23/23 [==============================] - 50s 2s/step - loss: 0.6843 - accuracy: 0.9757 - val_loss: 0.8386 - val_accuracy: 0.9097\n",
      "Epoch 10/32\n",
      "23/23 [==============================] - 50s 2s/step - loss: 0.5987 - accuracy: 0.9815 - val_loss: 0.7923 - val_accuracy: 0.9094\n",
      "Epoch 11/32\n",
      "23/23 [==============================] - 51s 2s/step - loss: 0.5299 - accuracy: 0.9836 - val_loss: 0.7613 - val_accuracy: 0.9073\n",
      "Epoch 12/32\n",
      "23/23 [==============================] - 50s 2s/step - loss: 0.4740 - accuracy: 0.9850 - val_loss: 0.6950 - val_accuracy: 0.9066\n",
      "Epoch 13/32\n",
      "23/23 [==============================] - 50s 2s/step - loss: 0.4253 - accuracy: 0.9855 - val_loss: 0.6512 - val_accuracy: 0.9103\n",
      "Epoch 14/32\n",
      "23/23 [==============================] - 50s 2s/step - loss: 0.3835 - accuracy: 0.9854 - val_loss: 0.6517 - val_accuracy: 0.9068\n",
      "Epoch 15/32\n",
      "23/23 [==============================] - 54s 2s/step - loss: 0.3446 - accuracy: 0.9874 - val_loss: 0.6564 - val_accuracy: 0.9052\n"
     ]
    }
   ],
   "source": [
    "history = model.fit(\n",
    "    train_ds,\n",
    "    validation_data=test_ds,\n",
    "    epochs=32,\n",
    "    callbacks=[tf.keras.callbacks.EarlyStopping(\n",
    "        monitor=\"val_loss\", patience=2, restore_best_weights=True)]\n",
    ")"
   ]
  },
  {
   "cell_type": "markdown",
   "id": "7df3c836",
   "metadata": {
    "papermill": {
     "duration": 0.054301,
     "end_time": "2023-07-07T12:58:37.656114",
     "exception": false,
     "start_time": "2023-07-07T12:58:37.601813",
     "status": "completed"
    },
    "tags": []
   },
   "source": [
    "## Model evaluataion"
   ]
  },
  {
   "cell_type": "code",
   "execution_count": 32,
   "id": "3a2ff509",
   "metadata": {
    "execution": {
     "iopub.execute_input": "2023-07-07T12:58:37.767841Z",
     "iopub.status.busy": "2023-07-07T12:58:37.767462Z",
     "iopub.status.idle": "2023-07-07T12:58:40.164588Z",
     "shell.execute_reply": "2023-07-07T12:58:40.163245Z"
    },
    "papermill": {
     "duration": 2.455863,
     "end_time": "2023-07-07T12:58:40.166827",
     "exception": false,
     "start_time": "2023-07-07T12:58:37.710964",
     "status": "completed"
    },
    "tags": []
   },
   "outputs": [
    {
     "name": "stdout",
     "output_type": "stream",
     "text": [
      "6/6 [==============================] - 2s 195ms/step - loss: 0.6510 - accuracy: 0.9099\n"
     ]
    },
    {
     "data": {
      "text/plain": [
       "[0.6509942412376404, 0.909902036190033]"
      ]
     },
     "execution_count": 32,
     "metadata": {},
     "output_type": "execute_result"
    }
   ],
   "source": [
    "model.evaluate(test_ds)"
   ]
  },
  {
   "cell_type": "markdown",
   "id": "08790452",
   "metadata": {
    "papermill": {
     "duration": 0.055392,
     "end_time": "2023-07-07T12:58:40.279075",
     "exception": false,
     "start_time": "2023-07-07T12:58:40.223683",
     "status": "completed"
    },
    "tags": []
   },
   "source": [
    "## Plotting the loss, value loss, accuracy and value accuracy"
   ]
  },
  {
   "cell_type": "code",
   "execution_count": 33,
   "id": "f641f6df",
   "metadata": {
    "execution": {
     "iopub.execute_input": "2023-07-07T12:58:40.393286Z",
     "iopub.status.busy": "2023-07-07T12:58:40.392827Z",
     "iopub.status.idle": "2023-07-07T12:58:40.942146Z",
     "shell.execute_reply": "2023-07-07T12:58:40.940804Z"
    },
    "papermill": {
     "duration": 0.609398,
     "end_time": "2023-07-07T12:58:40.944411",
     "exception": false,
     "start_time": "2023-07-07T12:58:40.335013",
     "status": "completed"
    },
    "tags": []
   },
   "outputs": [
    {
     "data": {
      "image/png": "[encoded data removed]",
      "text/plain": [
       "<Figure size 1600x600 with 2 Axes>"
      ]
     },
     "metadata": {},
     "output_type": "display_data"
    }
   ],
   "source": [
    "metrics = history.history\n",
    "plt.figure(figsize=(16, 6))\n",
    "plt.subplot(1, 2, 1)\n",
    "plt.plot(history.epoch, metrics[\"loss\"], metrics[\"val_loss\"])\n",
    "plt.legend([\"loss\", \"val_loss\"])\n",
    "plt.ylim([0, max(plt.ylim())])\n",
    "plt.xlabel(\"Epoch\")\n",
    "plt.ylabel(\"Loss [BinaryCrossentropy]\")\n",
    "\n",
    "plt.subplot(1, 2, 2)\n",
    "plt.plot(history.epoch, 100 *\n",
    "         np.array(metrics[\"accuracy\"]), 100 * np.array(metrics[\"val_accuracy\"]))\n",
    "plt.legend([\"accuracy\", \"val_accuracy\"])\n",
    "plt.ylim([0, 100])\n",
    "plt.xlabel(\"Epoch\")\n",
    "plt.ylabel(\"Accuracy [%]\")\n",
    "plt.show()"
   ]
  },
  {
   "cell_type": "markdown",
   "id": "17a9f7c5",
   "metadata": {
    "papermill": {
     "duration": 0.056526,
     "end_time": "2023-07-07T12:58:41.057772",
     "exception": false,
     "start_time": "2023-07-07T12:58:41.001246",
     "status": "completed"
    },
    "tags": []
   },
   "source": [
    "## Saving the model and tokenizer"
   ]
  },
  {
   "cell_type": "code",
   "execution_count": 34,
   "id": "a36e51b6",
   "metadata": {
    "execution": {
     "iopub.execute_input": "2023-07-07T12:58:41.172459Z",
     "iopub.status.busy": "2023-07-07T12:58:41.171773Z",
     "iopub.status.idle": "2023-07-07T12:58:42.245788Z",
     "shell.execute_reply": "2023-07-07T12:58:42.244556Z"
    },
    "papermill": {
     "duration": 1.134333,
     "end_time": "2023-07-07T12:58:42.248357",
     "exception": false,
     "start_time": "2023-07-07T12:58:41.114024",
     "status": "completed"
    },
    "tags": []
   },
   "outputs": [],
   "source": [
    "# Save the model\n",
    "model.save(\"/kaggle/working/model.h5\")\n",
    "\n",
    "# Save the model weights\n",
    "model.save_weights(\"/kaggle/working/model_weights.h5\")\n",
    "\n",
    "# Save the tokenizer\n",
    "tokenizer.save(\"/kaggle/working/tokenizer.bpe\")"
   ]
  },
  {
   "cell_type": "markdown",
   "id": "9540d551",
   "metadata": {
    "papermill": {
     "duration": 0.056594,
     "end_time": "2023-07-07T12:58:42.362321",
     "exception": false,
     "start_time": "2023-07-07T12:58:42.305727",
     "status": "completed"
    },
    "tags": []
   },
   "source": [
    "## Creating an end-to-end version\n",
    "\n",
    "It's no fun running our model in the current state: having to tokenize the text, pad it, call the model and then work out labels. Let's create an easy-to-use end-to-end version with our trained model and tokenizer."
   ]
  },
  {
   "cell_type": "code",
   "execution_count": 35,
   "id": "c6b79a52",
   "metadata": {
    "execution": {
     "iopub.execute_input": "2023-07-07T12:58:42.478794Z",
     "iopub.status.busy": "2023-07-07T12:58:42.478432Z",
     "iopub.status.idle": "2023-07-07T12:58:43.865087Z",
     "shell.execute_reply": "2023-07-07T12:58:43.863776Z"
    },
    "papermill": {
     "duration": 1.44777,
     "end_time": "2023-07-07T12:58:43.867588",
     "exception": false,
     "start_time": "2023-07-07T12:58:42.419818",
     "status": "completed"
    },
    "tags": []
   },
   "outputs": [],
   "source": [
    "class SentimentAnalysisModel():\n",
    "    def __init__(self, model, tokenizer, sequence_length):\n",
    "        self.model = model\n",
    "        self.tokenizer = tokenizer\n",
    "        self.sequence_length = sequence_length\n",
    "\n",
    "    def __call__(self, x):\n",
    "        if isinstance(x, str):\n",
    "            x = [x]\n",
    "        \n",
    "        encode_batch = self.tokenizer.encode_batch\n",
    "        x = [i.ids for i in encode_batch(x)]\n",
    "        \n",
    "        x = tf.keras.preprocessing.sequence.pad_sequences(\n",
    "            x, maxlen=self.sequence_length, padding=\"post\", truncating=\"post\")\n",
    "\n",
    "        pred = self.model(x, training=False)\n",
    "\n",
    "        res = np.zeros((len(pred),), dtype=object)\n",
    "\n",
    "        for i, p in enumerate(pred):\n",
    "            label = \"POSITIVE\" if tf.keras.backend.greater(\n",
    "                p[0], 0.5) else \"NEGATIVE\"\n",
    "            confidence = tf.keras.backend.abs(p[0] - 0.5) * 2\n",
    "\n",
    "            res[i] = {\n",
    "                \"label\": label,\n",
    "                \"confidence\": confidence.numpy()\n",
    "            }\n",
    "\n",
    "        return res\n",
    "\n",
    "\n",
    "export = SentimentAnalysisModel(model, tokenizer, sequence_length)\n",
    "\n",
    "with open(\"/kaggle/working/model_end2end\", \"wb\") as f:\n",
    "    pickle.dump(export, f)"
   ]
  },
  {
   "cell_type": "code",
   "execution_count": 36,
   "id": "3a79a40b",
   "metadata": {
    "execution": {
     "iopub.execute_input": "2023-07-07T12:58:43.984596Z",
     "iopub.status.busy": "2023-07-07T12:58:43.984253Z",
     "iopub.status.idle": "2023-07-07T12:58:54.253978Z",
     "shell.execute_reply": "2023-07-07T12:58:54.252584Z"
    },
    "papermill": {
     "duration": 10.331104,
     "end_time": "2023-07-07T12:58:54.256760",
     "exception": false,
     "start_time": "2023-07-07T12:58:43.925656",
     "status": "completed"
    },
    "tags": []
   },
   "outputs": [],
   "source": [
    "custom_objs = {\"Transformer\": Transformer}\n",
    "\n",
    "with tf.keras.utils.custom_object_scope(custom_objs), open(\"/kaggle/working/model_end2end\", \"rb\") as f:\n",
    "    loaded_model = pickle.load(f)"
   ]
  },
  {
   "cell_type": "markdown",
   "id": "9aa410c5",
   "metadata": {
    "papermill": {
     "duration": 0.055991,
     "end_time": "2023-07-07T12:58:54.370646",
     "exception": false,
     "start_time": "2023-07-07T12:58:54.314655",
     "status": "completed"
    },
    "tags": []
   },
   "source": [
    "## Testing the end-to-end model"
   ]
  },
  {
   "cell_type": "code",
   "execution_count": 37,
   "id": "9688674f",
   "metadata": {
    "execution": {
     "iopub.execute_input": "2023-07-07T12:58:54.486316Z",
     "iopub.status.busy": "2023-07-07T12:58:54.485954Z",
     "iopub.status.idle": "2023-07-07T12:58:57.960670Z",
     "shell.execute_reply": "2023-07-07T12:58:57.959514Z"
    },
    "papermill": {
     "duration": 3.535246,
     "end_time": "2023-07-07T12:58:57.962996",
     "exception": false,
     "start_time": "2023-07-07T12:58:54.427750",
     "status": "completed"
    },
    "tags": []
   },
   "outputs": [
    {
     "data": {
      "text/plain": [
       "array([{'label': 'POSITIVE', 'confidence': 0.95718706},\n",
       "       {'label': 'NEGATIVE', 'confidence': 0.9593007}], dtype=object)"
      ]
     },
     "execution_count": 37,
     "metadata": {},
     "output_type": "execute_result"
    }
   ],
   "source": [
    "export([\"This is a great product\", \"This is a horrible product\"])"
   ]
  },
  {
   "cell_type": "code",
   "execution_count": 38,
   "id": "19d197ae",
   "metadata": {
    "execution": {
     "iopub.execute_input": "2023-07-07T12:58:58.080969Z",
     "iopub.status.busy": "2023-07-07T12:58:58.080016Z",
     "iopub.status.idle": "2023-07-07T12:59:04.627027Z",
     "shell.execute_reply": "2023-07-07T12:59:04.625649Z"
    },
    "papermill": {
     "duration": 6.608597,
     "end_time": "2023-07-07T12:59:04.629291",
     "exception": false,
     "start_time": "2023-07-07T12:58:58.020694",
     "status": "completed"
    },
    "tags": []
   },
   "outputs": [
    {
     "data": {
      "text/plain": [
       "True"
      ]
     },
     "execution_count": 38,
     "metadata": {},
     "output_type": "execute_result"
    }
   ],
   "source": [
    "(export([\"This is a great product\", \"This is a horrible product\"]) == loaded_model(\n",
    "    [\"This is a great product\", \"This is a horrible product\"])).all()"
   ]
  },
  {
   "cell_type": "markdown",
   "id": "82ba4d58",
   "metadata": {
    "papermill": {
     "duration": 0.056838,
     "end_time": "2023-07-07T12:59:04.743967",
     "exception": false,
     "start_time": "2023-07-07T12:59:04.687129",
     "status": "completed"
    },
    "tags": []
   },
   "source": [
    "--------------------------"
   ]
  },
  {
   "cell_type": "code",
   "execution_count": null,
   "id": "f251d5bd",
   "metadata": {
    "papermill": {
     "duration": 0.057231,
     "end_time": "2023-07-07T12:59:04.858126",
     "exception": false,
     "start_time": "2023-07-07T12:59:04.800895",
     "status": "completed"
    },
    "tags": []
   },
   "outputs": [],
   "source": []
  }
 ],
 "metadata": {
  "kernelspec": {
   "display_name": "Python 3",
   "language": "python",
   "name": "python3"
  },
  "language_info": {
   "codemirror_mode": {
    "name": "ipython",
    "version": 3
   },
   "file_extension": ".py",
   "mimetype": "text/x-python",
   "name": "python",
   "nbconvert_exporter": "python",
   "pygments_lexer": "ipython3",
   "version": "3.8.17"
  },
  "papermill": {
   "default_parameters": {},
   "duration": 949.133961,
   "end_time": "2023-07-07T12:59:10.437171",
   "environment_variables": {},
   "exception": null,
   "input_path": "__notebook__.ipynb",
   "output_path": "__notebook__.ipynb",
   "parameters": {},
   "start_time": "2023-07-07T12:43:21.303210",
   "version": "2.4.0"
  }
 },
 "nbformat": 4,
 "nbformat_minor": 5
}
